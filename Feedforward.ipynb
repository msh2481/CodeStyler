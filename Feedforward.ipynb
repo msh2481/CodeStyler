{
  "nbformat": 4,
  "nbformat_minor": 0,
  "metadata": {
    "colab": {
      "name": "Feedforward.ipynb",
      "provenance": [],
      "collapsed_sections": [],
      "authorship_tag": "ABX9TyPCdXhusPBchEXP96qI0xKR",
      "include_colab_link": true
    },
    "kernelspec": {
      "display_name": "Python 3",
      "name": "python3"
    },
    "language_info": {
      "name": "python"
    },
    "widgets": {
      "application/vnd.jupyter.widget-state+json": {
        "bf6b28c6e79544e2b55fdd1526e0419d": {
          "model_module": "@jupyter-widgets/controls",
          "model_name": "HBoxModel",
          "model_module_version": "1.5.0",
          "state": {
            "_view_name": "HBoxView",
            "_dom_classes": [],
            "_model_name": "HBoxModel",
            "_view_module": "@jupyter-widgets/controls",
            "_model_module_version": "1.5.0",
            "_view_count": null,
            "_view_module_version": "1.5.0",
            "box_style": "",
            "layout": "IPY_MODEL_e31d3e4e43a14245b5468881ae097c82",
            "_model_module": "@jupyter-widgets/controls",
            "children": [
              "IPY_MODEL_aafa3640d3df4e01a8643a22119a0517",
              "IPY_MODEL_4547713a076145f2a7c38d88bc4ea9c2",
              "IPY_MODEL_67ab3dec1b96411791af1f3f2b02a2ed"
            ]
          }
        },
        "e31d3e4e43a14245b5468881ae097c82": {
          "model_module": "@jupyter-widgets/base",
          "model_name": "LayoutModel",
          "model_module_version": "1.2.0",
          "state": {
            "_view_name": "LayoutView",
            "grid_template_rows": null,
            "right": null,
            "justify_content": null,
            "_view_module": "@jupyter-widgets/base",
            "overflow": null,
            "_model_module_version": "1.2.0",
            "_view_count": null,
            "flex_flow": null,
            "width": null,
            "min_width": null,
            "border": null,
            "align_items": null,
            "bottom": null,
            "_model_module": "@jupyter-widgets/base",
            "top": null,
            "grid_column": null,
            "overflow_y": null,
            "overflow_x": null,
            "grid_auto_flow": null,
            "grid_area": null,
            "grid_template_columns": null,
            "flex": null,
            "_model_name": "LayoutModel",
            "justify_items": null,
            "grid_row": null,
            "max_height": null,
            "align_content": null,
            "visibility": null,
            "align_self": null,
            "height": null,
            "min_height": null,
            "padding": null,
            "grid_auto_rows": null,
            "grid_gap": null,
            "max_width": null,
            "order": null,
            "_view_module_version": "1.2.0",
            "grid_template_areas": null,
            "object_position": null,
            "object_fit": null,
            "grid_auto_columns": null,
            "margin": null,
            "display": null,
            "left": null
          }
        },
        "aafa3640d3df4e01a8643a22119a0517": {
          "model_module": "@jupyter-widgets/controls",
          "model_name": "HTMLModel",
          "model_module_version": "1.5.0",
          "state": {
            "_view_name": "HTMLView",
            "style": "IPY_MODEL_d9b1b4d6f3aa4a2f862f942af4abf187",
            "_dom_classes": [],
            "description": "",
            "_model_name": "HTMLModel",
            "placeholder": "​",
            "_view_module": "@jupyter-widgets/controls",
            "_model_module_version": "1.5.0",
            "value": " 10%",
            "_view_count": null,
            "_view_module_version": "1.5.0",
            "description_tooltip": null,
            "_model_module": "@jupyter-widgets/controls",
            "layout": "IPY_MODEL_53309a83a85848009764f9280f44e5d5"
          }
        },
        "4547713a076145f2a7c38d88bc4ea9c2": {
          "model_module": "@jupyter-widgets/controls",
          "model_name": "FloatProgressModel",
          "model_module_version": "1.5.0",
          "state": {
            "_view_name": "ProgressView",
            "style": "IPY_MODEL_7b997840dc5d41d09534c45009be0c9b",
            "_dom_classes": [],
            "description": "",
            "_model_name": "FloatProgressModel",
            "bar_style": "danger",
            "max": 196,
            "_view_module": "@jupyter-widgets/controls",
            "_model_module_version": "1.5.0",
            "value": 20,
            "_view_count": null,
            "_view_module_version": "1.5.0",
            "orientation": "horizontal",
            "min": 0,
            "description_tooltip": null,
            "_model_module": "@jupyter-widgets/controls",
            "layout": "IPY_MODEL_9239843da17843349121762e6709214c"
          }
        },
        "67ab3dec1b96411791af1f3f2b02a2ed": {
          "model_module": "@jupyter-widgets/controls",
          "model_name": "HTMLModel",
          "model_module_version": "1.5.0",
          "state": {
            "_view_name": "HTMLView",
            "style": "IPY_MODEL_e8467490dd654415ab6151fc55cf9d1d",
            "_dom_classes": [],
            "description": "",
            "_model_name": "HTMLModel",
            "placeholder": "​",
            "_view_module": "@jupyter-widgets/controls",
            "_model_module_version": "1.5.0",
            "value": " 20/196 [00:01&lt;00:15, 11.21it/s]",
            "_view_count": null,
            "_view_module_version": "1.5.0",
            "description_tooltip": null,
            "_model_module": "@jupyter-widgets/controls",
            "layout": "IPY_MODEL_51efe654bbaa43fdbe33ae699a370a88"
          }
        },
        "d9b1b4d6f3aa4a2f862f942af4abf187": {
          "model_module": "@jupyter-widgets/controls",
          "model_name": "DescriptionStyleModel",
          "model_module_version": "1.5.0",
          "state": {
            "_view_name": "StyleView",
            "_model_name": "DescriptionStyleModel",
            "description_width": "",
            "_view_module": "@jupyter-widgets/base",
            "_model_module_version": "1.5.0",
            "_view_count": null,
            "_view_module_version": "1.2.0",
            "_model_module": "@jupyter-widgets/controls"
          }
        },
        "53309a83a85848009764f9280f44e5d5": {
          "model_module": "@jupyter-widgets/base",
          "model_name": "LayoutModel",
          "model_module_version": "1.2.0",
          "state": {
            "_view_name": "LayoutView",
            "grid_template_rows": null,
            "right": null,
            "justify_content": null,
            "_view_module": "@jupyter-widgets/base",
            "overflow": null,
            "_model_module_version": "1.2.0",
            "_view_count": null,
            "flex_flow": null,
            "width": null,
            "min_width": null,
            "border": null,
            "align_items": null,
            "bottom": null,
            "_model_module": "@jupyter-widgets/base",
            "top": null,
            "grid_column": null,
            "overflow_y": null,
            "overflow_x": null,
            "grid_auto_flow": null,
            "grid_area": null,
            "grid_template_columns": null,
            "flex": null,
            "_model_name": "LayoutModel",
            "justify_items": null,
            "grid_row": null,
            "max_height": null,
            "align_content": null,
            "visibility": null,
            "align_self": null,
            "height": null,
            "min_height": null,
            "padding": null,
            "grid_auto_rows": null,
            "grid_gap": null,
            "max_width": null,
            "order": null,
            "_view_module_version": "1.2.0",
            "grid_template_areas": null,
            "object_position": null,
            "object_fit": null,
            "grid_auto_columns": null,
            "margin": null,
            "display": null,
            "left": null
          }
        },
        "7b997840dc5d41d09534c45009be0c9b": {
          "model_module": "@jupyter-widgets/controls",
          "model_name": "ProgressStyleModel",
          "model_module_version": "1.5.0",
          "state": {
            "_view_name": "StyleView",
            "_model_name": "ProgressStyleModel",
            "description_width": "",
            "_view_module": "@jupyter-widgets/base",
            "_model_module_version": "1.5.0",
            "_view_count": null,
            "_view_module_version": "1.2.0",
            "bar_color": null,
            "_model_module": "@jupyter-widgets/controls"
          }
        },
        "9239843da17843349121762e6709214c": {
          "model_module": "@jupyter-widgets/base",
          "model_name": "LayoutModel",
          "model_module_version": "1.2.0",
          "state": {
            "_view_name": "LayoutView",
            "grid_template_rows": null,
            "right": null,
            "justify_content": null,
            "_view_module": "@jupyter-widgets/base",
            "overflow": null,
            "_model_module_version": "1.2.0",
            "_view_count": null,
            "flex_flow": null,
            "width": null,
            "min_width": null,
            "border": null,
            "align_items": null,
            "bottom": null,
            "_model_module": "@jupyter-widgets/base",
            "top": null,
            "grid_column": null,
            "overflow_y": null,
            "overflow_x": null,
            "grid_auto_flow": null,
            "grid_area": null,
            "grid_template_columns": null,
            "flex": null,
            "_model_name": "LayoutModel",
            "justify_items": null,
            "grid_row": null,
            "max_height": null,
            "align_content": null,
            "visibility": null,
            "align_self": null,
            "height": null,
            "min_height": null,
            "padding": null,
            "grid_auto_rows": null,
            "grid_gap": null,
            "max_width": null,
            "order": null,
            "_view_module_version": "1.2.0",
            "grid_template_areas": null,
            "object_position": null,
            "object_fit": null,
            "grid_auto_columns": null,
            "margin": null,
            "display": null,
            "left": null
          }
        },
        "e8467490dd654415ab6151fc55cf9d1d": {
          "model_module": "@jupyter-widgets/controls",
          "model_name": "DescriptionStyleModel",
          "model_module_version": "1.5.0",
          "state": {
            "_view_name": "StyleView",
            "_model_name": "DescriptionStyleModel",
            "description_width": "",
            "_view_module": "@jupyter-widgets/base",
            "_model_module_version": "1.5.0",
            "_view_count": null,
            "_view_module_version": "1.2.0",
            "_model_module": "@jupyter-widgets/controls"
          }
        },
        "51efe654bbaa43fdbe33ae699a370a88": {
          "model_module": "@jupyter-widgets/base",
          "model_name": "LayoutModel",
          "model_module_version": "1.2.0",
          "state": {
            "_view_name": "LayoutView",
            "grid_template_rows": null,
            "right": null,
            "justify_content": null,
            "_view_module": "@jupyter-widgets/base",
            "overflow": null,
            "_model_module_version": "1.2.0",
            "_view_count": null,
            "flex_flow": null,
            "width": null,
            "min_width": null,
            "border": null,
            "align_items": null,
            "bottom": null,
            "_model_module": "@jupyter-widgets/base",
            "top": null,
            "grid_column": null,
            "overflow_y": null,
            "overflow_x": null,
            "grid_auto_flow": null,
            "grid_area": null,
            "grid_template_columns": null,
            "flex": null,
            "_model_name": "LayoutModel",
            "justify_items": null,
            "grid_row": null,
            "max_height": null,
            "align_content": null,
            "visibility": null,
            "align_self": null,
            "height": null,
            "min_height": null,
            "padding": null,
            "grid_auto_rows": null,
            "grid_gap": null,
            "max_width": null,
            "order": null,
            "_view_module_version": "1.2.0",
            "grid_template_areas": null,
            "object_position": null,
            "object_fit": null,
            "grid_auto_columns": null,
            "margin": null,
            "display": null,
            "left": null
          }
        }
      }
    }
  },
  "cells": [
    {
      "cell_type": "markdown",
      "metadata": {
        "id": "view-in-github",
        "colab_type": "text"
      },
      "source": [
        "<a href=\"https://colab.research.google.com/github/msh2481/CodeStyler/blob/main/Feedforward.ipynb\" target=\"_parent\"><img src=\"https://colab.research.google.com/assets/colab-badge.svg\" alt=\"Open In Colab\"/></a>"
      ]
    },
    {
      "cell_type": "code",
      "metadata": {
        "colab": {
          "base_uri": "https://localhost:8080/"
        },
        "id": "r1II5jRa_xi2",
        "outputId": "22c31dd0-a2c4-40d3-b48c-4e5397001fd5"
      },
      "source": [
        "!rm -rf ./*\n",
        "!git clone https://github.com/msh2481/CodeStyler.git && mv CodeStyler/* . && rm -rf CodeStyler\n",
        "!ls"
      ],
      "execution_count": 67,
      "outputs": [
        {
          "output_type": "stream",
          "name": "stdout",
          "text": [
            "Cloning into 'CodeStyler'...\n",
            "remote: Enumerating objects: 7927, done.\u001b[K\n",
            "remote: Counting objects: 100% (7927/7927), done.\u001b[K\n",
            "remote: Compressing objects: 100% (6527/6527), done.\u001b[K\n",
            "remote: Total 7927 (delta 1401), reused 7917 (delta 1399), pack-reused 0\u001b[K\n",
            "Receiving objects: 100% (7927/7927), 9.10 MiB | 15.38 MiB/s, done.\n",
            "Resolving deltas: 100% (1401/1401), done.\n",
            "Baseline.ipynb\tfilenames.txt  files  README.md\n"
          ]
        }
      ]
    },
    {
      "cell_type": "code",
      "metadata": {
        "id": "Lp_rIGE9DvEE"
      },
      "source": [
        "from random import shuffle, choices, choice\n",
        "from collections import deque, defaultdict, Counter\n",
        "import numpy as np\n",
        "import torch\n",
        "import torch.nn as nn\n",
        "from torch.nn import functional as F\n",
        "from torch.utils.data import Dataset, DataLoader\n",
        "from tqdm.notebook import tqdm"
      ],
      "execution_count": 193,
      "outputs": []
    },
    {
      "cell_type": "code",
      "metadata": {
        "id": "mWx9mjSMGS1w"
      },
      "source": [
        "SUFFIX_SIZE = 10\n",
        "TRAIN_SIZE = 100000\n",
        "TEST_SIZE = 10000\n",
        "MIN_OCCURENCES = 10\n",
        "BATCH_SIZE = 512"
      ],
      "execution_count": 203,
      "outputs": []
    },
    {
      "cell_type": "code",
      "metadata": {
        "id": "iMtsU1nro22g"
      },
      "source": [
        "def fmt(number):\n",
        "    return '{:.5f}'.format(number)"
      ],
      "execution_count": 204,
      "outputs": []
    },
    {
      "cell_type": "code",
      "metadata": {
        "id": "xU9muuIWBcxJ",
        "colab": {
          "base_uri": "https://localhost:8080/"
        },
        "outputId": "2a9bd948-3cfb-45e0-b261-6620f4399144"
      },
      "source": [
        "rawTexts = []\n",
        "alphabet = Counter()\n",
        "for filename in open('filenames.txt'):\n",
        "    if len(rawTexts) > TRAIN_SIZE + TEST_SIZE:\n",
        "        break\n",
        "    text = open(filename.strip()).read()\n",
        "    if 'debug' in text or 'DEBUG' in text:\n",
        "        continue\n",
        "    alphabet.update(text)\n",
        "    for pos in range(0, len(text) - SUFFIX_SIZE):\n",
        "        rawTexts.append(text[pos : pos + SUFFIX_SIZE + 1])\n",
        "alphabetCount = Counter()\n",
        "alphabetCount['█'] = 0\n",
        "for x, y in alphabet.items():\n",
        "    if y >= MIN_OCCURENCES:\n",
        "        alphabetCount[x] += y\n",
        "    else:\n",
        "        alphabetCount['█'] += y\n",
        "alphabet = [x for x, y in alphabetCount.items()]\n",
        "ALPHABET_SIZE = len(alphabet)\n",
        "print(f'alphabet of length {len(alphabet)}: {alphabetCount}')\n",
        "\n",
        "shuffle(rawTexts)\n",
        "print(f'{len(rawTexts)} texts in total')\n",
        "print(rawTexts[:3])"
      ],
      "execution_count": 205,
      "outputs": [
        {
          "output_type": "stream",
          "name": "stdout",
          "text": [
            "alphabet of length 92: Counter({' ': 24491, 'e': 6100, 't': 5087, 'a': 4894, 'n': 4065, 'r': 3685, 'i': 3666, '\\n': 3554, 'l': 3458, 's': 3267, 'o': 3203, '0': 2347, 'u': 2076, 'p': 1667, 'c': 1609, 'E': 1535, '_': 1501, '.': 1454, 'S': 1390, '(': 1209, ')': 1209, 'd': 1204, 'T': 1196, ':': 1178, 'f': 1140, 'v': 1127, 'N': 1118, 'I': 1111, 'A': 1098, 'm': 1058, '1': 1050, 'g': 1040, 'C': 1013, 'b': 927, 'y': 860, '>': 840, 'R': 770, 'h': 753, '-': 748, '\"': 711, '/': 688, '=': 674, '{': 661, '}': 661, '2': 622, 'O': 620, 'L': 618, 'U': 554, 'B': 549, '!': 548, ',': 545, 'P': 497, 'k': 487, 'D': 468, '<': 461, '3': 451, 'M': 449, '*': 399, 'x': 346, 'F': 341, 'w': 269, 'K': 235, 'V': 226, 'j': 215, '?': 205, '+': 204, '9': 201, 'W': 191, '4': 174, 'G': 169, '5': 155, 'H': 150, '6': 145, 'z': 114, 'q': 110, '8': 106, '7': 98, 'Q': 95, 'Y': 93, 'X': 90, 'J': 69, '`': 68, ';': 59, '@': 45, '&': 44, '$': 31, '|': 28, \"'\": 21, '[': 16, ']': 16, '█': 15, 'Z': 10})\n",
            "114355 texts in total\n",
            "['   val writ', '   private ', '_VARIABLE -']\n"
          ]
        }
      ]
    },
    {
      "cell_type": "code",
      "metadata": {
        "id": "-4y1ZhRmUF3A"
      },
      "source": [
        "charToIndexMap = { c : i for i, c in enumerate(alphabet) }\n",
        "def charToIndex(c):\n",
        "    return torch.as_tensor(charToIndexMap.get(c, ALPHABET_SIZE - 1), dtype=torch.long)\n",
        "\n",
        "def stringToTensor(cur):\n",
        "    x = torch.zeros(ALPHABET_SIZE * SUFFIX_SIZE)\n",
        "    for j in range(SUFFIX_SIZE):\n",
        "        x[j * ALPHABET_SIZE + charToIndex(cur[j])] = 1\n",
        "    return x\n",
        "\n",
        "class StringDataset(Dataset):\n",
        "    def __init__(self, strings):\n",
        "        super(StringDataset, self).__init__()\n",
        "        self.strings = strings\n",
        "    def __len__(self):\n",
        "        return len(self.strings)\n",
        "    def __getitem__(self, i):\n",
        "        cur = self.strings[i]\n",
        "        return stringToTensor(cur[:-1]), charToIndex(cur[-1])\n",
        "\n",
        "trainSet = DataLoader(StringDataset(rawTexts[: TRAIN_SIZE]), batch_size=BATCH_SIZE, shuffle=True)\n",
        "testSet = DataLoader(StringDataset(rawTexts[TRAIN_SIZE : TRAIN_SIZE + TEST_SIZE]), batch_size=BATCH_SIZE, shuffle=False)"
      ],
      "execution_count": 206,
      "outputs": []
    },
    {
      "cell_type": "code",
      "metadata": {
        "colab": {
          "base_uri": "https://localhost:8080/"
        },
        "id": "oniJOQwuVuWw",
        "outputId": "e9f21f4b-e524-49e9-acd8-0ba4c2e5d3ae"
      },
      "source": [
        "print(len(trainSet), len(testSet))\n",
        "print('---')\n",
        "print(next(iter(trainSet)))\n",
        "print('---')"
      ],
      "execution_count": 207,
      "outputs": [
        {
          "output_type": "stream",
          "name": "stdout",
          "text": [
            "196 20\n",
            "---\n",
            "[tensor([[0., 0., 0.,  ..., 0., 0., 0.],\n",
            "        [0., 0., 0.,  ..., 0., 0., 0.],\n",
            "        [0., 0., 0.,  ..., 0., 0., 0.],\n",
            "        ...,\n",
            "        [0., 0., 1.,  ..., 0., 0., 0.],\n",
            "        [0., 0., 1.,  ..., 0., 0., 0.],\n",
            "        [0., 0., 0.,  ..., 0., 0., 0.]]), tensor([ 2, 34, 71,  2, 58, 57, 37, 36, 76, 44, 24, 66, 66, 64, 44,  2,  2, 36,\n",
            "        14, 29, 35,  2, 49, 43, 30, 61,  2,  2,  2, 58, 24, 55,  2,  2,  2, 28,\n",
            "        56,  2, 51, 44,  3, 35, 28, 51,  2, 51, 44, 45, 48, 46, 30, 43, 36,  2,\n",
            "        57,  2, 24, 62, 46, 57, 34,  2, 50, 26, 41, 66, 28, 55, 24, 36,  2, 84,\n",
            "        12, 57, 22, 26, 66, 28,  8,  2, 43, 10,  1, 59, 24, 57,  2,  2,  2, 43,\n",
            "        37, 26, 35, 30,  2, 60, 57,  2, 35,  2, 44, 53,  2,  2, 54, 75, 24, 58,\n",
            "        51,  2,  2, 60,  4,  2, 30, 16,  1, 44, 13, 13, 29, 23, 28, 28, 11,  2,\n",
            "        37, 66, 26, 55, 24,  8, 61,  2,  2,  4, 21, 39, 55, 56, 35, 26,  2, 26,\n",
            "        16, 59, 37,  3, 44, 49,  2, 53,  2, 65, 26, 50, 28, 26, 64, 26, 51,  2,\n",
            "        30,  9, 59, 55, 87,  2, 46, 24,  5,  2, 35, 51, 34, 27, 30, 30, 11, 44,\n",
            "        39, 55, 46, 46, 37,  2,  2, 36, 66,  2,  2,  2, 43,  2,  2, 36, 44, 11,\n",
            "         2,  2, 45, 79, 55, 35, 26, 24, 26,  2, 44, 30, 11, 36, 61, 60, 11, 37,\n",
            "        27, 11,  1, 74, 34, 38, 50,  2,  2,  2, 22,  2, 36,  3, 57, 23,  2, 28,\n",
            "         3,  2,  2, 43, 36, 26,  2,  8, 30, 48, 24, 41,  2, 38, 16, 62, 16, 28,\n",
            "        18,  2, 37, 24,  1,  2, 63,  2, 28, 20, 66, 37,  2, 39, 44, 56, 26, 26,\n",
            "        54, 28, 60, 34, 36, 26,  2, 41,  2,  2, 57, 36, 26, 36,  5, 18,  2, 55,\n",
            "         5,  2, 77, 50,  2, 28,  2, 26, 44, 46, 14, 39,  2, 44, 24, 51, 26, 26,\n",
            "        30,  6, 24, 22, 35, 50,  8, 44,  7, 74,  2, 44, 30,  2, 38, 37,  2, 58,\n",
            "        10, 58,  2,  2, 66, 17, 16,  2, 51, 28,  2, 35, 51, 24, 55, 51,  2, 29,\n",
            "        60, 17,  8, 45, 48, 14, 51, 24, 57, 10, 37, 12, 30, 26,  2, 31, 34, 30,\n",
            "         2, 16, 66, 28, 28, 26, 26,  2, 50, 66, 16,  2, 51, 29, 44, 29, 26, 60,\n",
            "        37, 50,  5, 57, 26, 16,  2, 68, 57,  2,  2, 44,  2, 13, 56, 57, 37,  2,\n",
            "         2, 37, 31, 44, 43, 55, 44, 30,  2, 31,  2, 28, 28, 36, 24, 77, 37, 37,\n",
            "        45,  2,  9, 43, 58, 26, 26, 26,  2, 66, 57, 37,  2, 35,  2,  2, 37, 30,\n",
            "        30, 49,  2, 37,  2,  2, 26,  2, 11, 66, 32, 66, 26, 49, 49, 39, 14, 36,\n",
            "        34, 55, 10, 24,  2, 34, 34, 28, 38, 26, 26,  2, 17, 36, 41, 55, 36, 59,\n",
            "        16,  9, 78, 16, 28, 28, 30, 60, 58, 26, 38, 46,  2, 28, 66,  2, 44, 26,\n",
            "         2, 22, 59,  2, 37, 43, 36, 61,  7,  2, 35, 66, 51, 42, 57, 55, 12, 17,\n",
            "         2, 37, 63, 40, 55, 28,  2, 29])]\n",
            "---\n"
          ]
        }
      ]
    },
    {
      "cell_type": "code",
      "metadata": {
        "id": "l52z5m8oISM4"
      },
      "source": [
        "class Predictor(nn.Module):\n",
        "    def __init__(self):\n",
        "        super(Predictor, self).__init__()\n",
        "        sizes = [SUFFIX_SIZE * ALPHABET_SIZE, 64, 32, 64, ALPHABET_SIZE]\n",
        "        layerBuffer = []\n",
        "        for i in range(len(sizes) - 1):\n",
        "            layerBuffer.append(nn.Linear(sizes[i], sizes[i + 1], bias=False))\n",
        "            layerBuffer.append(nn.BatchNorm1d(sizes[i + 1]))\n",
        "            if i < len(sizes) - 2:\n",
        "                layerBuffer.append(nn.LeakyReLU())\n",
        "            else:\n",
        "                layerBuffer.append(nn.LogSoftmax(dim=-1))\n",
        "            # Add last layer as relu + tanh?\n",
        "        self.layers = nn.Sequential(*layerBuffer)\n",
        "\n",
        "    def forward(self, inputTensor):\n",
        "        if inputTensor.shape[1:] != (SUFFIX_SIZE * ALPHABET_SIZE, ):\n",
        "            print(inputTensor.shape)\n",
        "            print(inputTensor)\n",
        "        assert inputTensor.shape[1:] == (SUFFIX_SIZE * ALPHABET_SIZE, )\n",
        "        outputTensor = self.layers(inputTensor)\n",
        "        assert outputTensor.shape[1:] == (ALPHABET_SIZE, )\n",
        "        return outputTensor\n",
        "\n",
        "    def logProbabilityOfNext(self, inputTensor, number):\n",
        "        prediction = self(inputTensor)\n",
        "        result = prediction[charToIndex(number)]\n",
        "        return result\n",
        "    \n",
        "    def guessNext(self, inputTensor):\n",
        "        idx = self(inputTensor).argmax().item()\n",
        "        return alphabet[idx]"
      ],
      "execution_count": 208,
      "outputs": []
    },
    {
      "cell_type": "code",
      "metadata": {
        "id": "uHDr-qL-a8L5"
      },
      "source": [
        "lossFunction = nn.NLLLoss()\n",
        "\n",
        "def evaluateOnBatch(predictor, batchInputs, batchAnswers):\n",
        "    probabilities = predictor(batchInputs)\n",
        "    assert probabilities.shape[1:] == (ALPHABET_SIZE, )\n",
        "    loss = lossFunction(probabilities, batchAnswers)\n",
        "    # print(f'loss = {loss}')\n",
        "    outputs = probabilities.argmax(dim=-1)\n",
        "    accuracy = (outputs == batchAnswers).float().mean()\n",
        "    return accuracy, loss\n",
        "        \n",
        "def train(predictor, epochs, startEpoch):\n",
        "    optimizer = torch.optim.Adam(predictor.parameters())\n",
        "    for epoch in range(epochs):\n",
        "        predictor.train()\n",
        "        trainAccuracy = 0\n",
        "        trainLogLoss = 0\n",
        "        trainSize = 0\n",
        "        for batchInputs, batchAnswers in tqdm(trainSet):\n",
        "            optimizer.zero_grad()\n",
        "            accuracy, loss = evaluateOnBatch(predictor, batchInputs, batchAnswers)\n",
        "            loss.backward()\n",
        "            optimizer.step()\n",
        "            trainAccuracy += accuracy\n",
        "            trainLogLoss += loss.item()\n",
        "        trainAccuracy /= len(trainSet) \n",
        "        trainLogLoss /= len(trainSet) \n",
        "\n",
        "        with torch.no_grad():\n",
        "            predictor.eval()\n",
        "            testAccuracy = 0\n",
        "            testLogLoss = 0\n",
        "            testSize = 0\n",
        "            for batchInputs, batchAnswers in tqdm(testSet):\n",
        "                accuracy, logLoss = evaluateOnBatch(predictor, batchInputs, batchAnswers)\n",
        "                testAccuracy += accuracy\n",
        "                testLogLoss += loss.item()\n",
        "            testAccuracy /= len(testSet)  \n",
        "            testLogLoss /= len(testSet) \n",
        "            print(f'#{startEpoch + epoch}: {fmt(trainAccuracy)} {fmt(trainLogLoss)} {fmt(testAccuracy)} {fmt(testLogLoss)}')\n",
        "        "
      ],
      "execution_count": 209,
      "outputs": []
    },
    {
      "cell_type": "code",
      "metadata": {
        "id": "GXs0InGgwC37"
      },
      "source": [
        "def samplePrediction(predictor, length):\n",
        "    s = choice(rawTexts)\n",
        "    for i in range(length):\n",
        "        suffix = s[-SUFFIX_SIZE:]\n",
        "        assert len(suffix) == SUFFIX_SIZE\n",
        "        w = list(*predictor(stringToTensor(suffix).view(1, -1)).exp().detach())\n",
        "        c = choices(alphabet, w)[0]\n",
        "        s += c\n",
        "    return s"
      ],
      "execution_count": 210,
      "outputs": []
    },
    {
      "cell_type": "code",
      "metadata": {
        "colab": {
          "base_uri": "https://localhost:8080/",
          "height": 399,
          "referenced_widgets": [
            "bf6b28c6e79544e2b55fdd1526e0419d",
            "e31d3e4e43a14245b5468881ae097c82",
            "aafa3640d3df4e01a8643a22119a0517",
            "4547713a076145f2a7c38d88bc4ea9c2",
            "67ab3dec1b96411791af1f3f2b02a2ed",
            "d9b1b4d6f3aa4a2f862f942af4abf187",
            "53309a83a85848009764f9280f44e5d5",
            "7b997840dc5d41d09534c45009be0c9b",
            "9239843da17843349121762e6709214c",
            "e8467490dd654415ab6151fc55cf9d1d",
            "51efe654bbaa43fdbe33ae699a370a88"
          ]
        },
        "id": "kxpBDZhhMwSx",
        "outputId": "4a58bc64-50bd-4854-b142-78e2d983f780"
      },
      "source": [
        "predictor = Predictor()\n",
        "\n",
        "for i in range(300):\n",
        "    train(predictor, 1, i)\n",
        "    print(i, samplePrediction(predictor, 300))"
      ],
      "execution_count": 212,
      "outputs": [
        {
          "output_type": "display_data",
          "data": {
            "application/vnd.jupyter.widget-view+json": {
              "model_id": "bf6b28c6e79544e2b55fdd1526e0419d",
              "version_minor": 0,
              "version_major": 2
            },
            "text/plain": [
              "  0%|          | 0/196 [00:00<?, ?it/s]"
            ]
          },
          "metadata": {}
        },
        {
          "output_type": "error",
          "ename": "KeyboardInterrupt",
          "evalue": "ignored",
          "traceback": [
            "\u001b[0;31m---------------------------------------------------------------------------\u001b[0m",
            "\u001b[0;31mKeyboardInterrupt\u001b[0m                         Traceback (most recent call last)",
            "\u001b[0;32m<ipython-input-212-14c16b7bd11d>\u001b[0m in \u001b[0;36m<module>\u001b[0;34m()\u001b[0m\n\u001b[1;32m      2\u001b[0m \u001b[0;34m\u001b[0m\u001b[0m\n\u001b[1;32m      3\u001b[0m \u001b[0;32mfor\u001b[0m \u001b[0mi\u001b[0m \u001b[0;32min\u001b[0m \u001b[0mrange\u001b[0m\u001b[0;34m(\u001b[0m\u001b[0;36m300\u001b[0m\u001b[0;34m)\u001b[0m\u001b[0;34m:\u001b[0m\u001b[0;34m\u001b[0m\u001b[0;34m\u001b[0m\u001b[0m\n\u001b[0;32m----> 4\u001b[0;31m     \u001b[0mtrain\u001b[0m\u001b[0;34m(\u001b[0m\u001b[0mpredictor\u001b[0m\u001b[0;34m,\u001b[0m \u001b[0;36m1\u001b[0m\u001b[0;34m,\u001b[0m \u001b[0mi\u001b[0m\u001b[0;34m)\u001b[0m\u001b[0;34m\u001b[0m\u001b[0;34m\u001b[0m\u001b[0m\n\u001b[0m\u001b[1;32m      5\u001b[0m     \u001b[0mprint\u001b[0m\u001b[0;34m(\u001b[0m\u001b[0mi\u001b[0m\u001b[0;34m,\u001b[0m \u001b[0msamplePrediction\u001b[0m\u001b[0;34m(\u001b[0m\u001b[0mpredictor\u001b[0m\u001b[0;34m,\u001b[0m \u001b[0;36m300\u001b[0m\u001b[0;34m)\u001b[0m\u001b[0;34m)\u001b[0m\u001b[0;34m\u001b[0m\u001b[0;34m\u001b[0m\u001b[0m\n",
            "\u001b[0;32m<ipython-input-209-13d3a9822a55>\u001b[0m in \u001b[0;36mtrain\u001b[0;34m(predictor, epochs, startEpoch)\u001b[0m\n\u001b[1;32m     17\u001b[0m         \u001b[0mtrainLogLoss\u001b[0m \u001b[0;34m=\u001b[0m \u001b[0;36m0\u001b[0m\u001b[0;34m\u001b[0m\u001b[0;34m\u001b[0m\u001b[0m\n\u001b[1;32m     18\u001b[0m         \u001b[0mtrainSize\u001b[0m \u001b[0;34m=\u001b[0m \u001b[0;36m0\u001b[0m\u001b[0;34m\u001b[0m\u001b[0;34m\u001b[0m\u001b[0m\n\u001b[0;32m---> 19\u001b[0;31m         \u001b[0;32mfor\u001b[0m \u001b[0mbatchInputs\u001b[0m\u001b[0;34m,\u001b[0m \u001b[0mbatchAnswers\u001b[0m \u001b[0;32min\u001b[0m \u001b[0mtqdm\u001b[0m\u001b[0;34m(\u001b[0m\u001b[0mtrainSet\u001b[0m\u001b[0;34m)\u001b[0m\u001b[0;34m:\u001b[0m\u001b[0;34m\u001b[0m\u001b[0;34m\u001b[0m\u001b[0m\n\u001b[0m\u001b[1;32m     20\u001b[0m             \u001b[0moptimizer\u001b[0m\u001b[0;34m.\u001b[0m\u001b[0mzero_grad\u001b[0m\u001b[0;34m(\u001b[0m\u001b[0;34m)\u001b[0m\u001b[0;34m\u001b[0m\u001b[0;34m\u001b[0m\u001b[0m\n\u001b[1;32m     21\u001b[0m             \u001b[0maccuracy\u001b[0m\u001b[0;34m,\u001b[0m \u001b[0mloss\u001b[0m \u001b[0;34m=\u001b[0m \u001b[0mevaluateOnBatch\u001b[0m\u001b[0;34m(\u001b[0m\u001b[0mpredictor\u001b[0m\u001b[0;34m,\u001b[0m \u001b[0mbatchInputs\u001b[0m\u001b[0;34m,\u001b[0m \u001b[0mbatchAnswers\u001b[0m\u001b[0;34m)\u001b[0m\u001b[0;34m\u001b[0m\u001b[0;34m\u001b[0m\u001b[0m\n",
            "\u001b[0;32m/usr/local/lib/python3.7/dist-packages/tqdm/notebook.py\u001b[0m in \u001b[0;36m__iter__\u001b[0;34m(self)\u001b[0m\n\u001b[1;32m    255\u001b[0m     \u001b[0;32mdef\u001b[0m \u001b[0m__iter__\u001b[0m\u001b[0;34m(\u001b[0m\u001b[0mself\u001b[0m\u001b[0;34m)\u001b[0m\u001b[0;34m:\u001b[0m\u001b[0;34m\u001b[0m\u001b[0;34m\u001b[0m\u001b[0m\n\u001b[1;32m    256\u001b[0m         \u001b[0;32mtry\u001b[0m\u001b[0;34m:\u001b[0m\u001b[0;34m\u001b[0m\u001b[0;34m\u001b[0m\u001b[0m\n\u001b[0;32m--> 257\u001b[0;31m             \u001b[0;32mfor\u001b[0m \u001b[0mobj\u001b[0m \u001b[0;32min\u001b[0m \u001b[0msuper\u001b[0m\u001b[0;34m(\u001b[0m\u001b[0mtqdm_notebook\u001b[0m\u001b[0;34m,\u001b[0m \u001b[0mself\u001b[0m\u001b[0;34m)\u001b[0m\u001b[0;34m.\u001b[0m\u001b[0m__iter__\u001b[0m\u001b[0;34m(\u001b[0m\u001b[0;34m)\u001b[0m\u001b[0;34m:\u001b[0m\u001b[0;34m\u001b[0m\u001b[0;34m\u001b[0m\u001b[0m\n\u001b[0m\u001b[1;32m    258\u001b[0m                 \u001b[0;31m# return super(tqdm...) will not catch exception\u001b[0m\u001b[0;34m\u001b[0m\u001b[0;34m\u001b[0m\u001b[0;34m\u001b[0m\u001b[0m\n\u001b[1;32m    259\u001b[0m                 \u001b[0;32myield\u001b[0m \u001b[0mobj\u001b[0m\u001b[0;34m\u001b[0m\u001b[0;34m\u001b[0m\u001b[0m\n",
            "\u001b[0;32m/usr/local/lib/python3.7/dist-packages/tqdm/std.py\u001b[0m in \u001b[0;36m__iter__\u001b[0;34m(self)\u001b[0m\n\u001b[1;32m   1178\u001b[0m \u001b[0;34m\u001b[0m\u001b[0m\n\u001b[1;32m   1179\u001b[0m         \u001b[0;32mtry\u001b[0m\u001b[0;34m:\u001b[0m\u001b[0;34m\u001b[0m\u001b[0;34m\u001b[0m\u001b[0m\n\u001b[0;32m-> 1180\u001b[0;31m             \u001b[0;32mfor\u001b[0m \u001b[0mobj\u001b[0m \u001b[0;32min\u001b[0m \u001b[0miterable\u001b[0m\u001b[0;34m:\u001b[0m\u001b[0;34m\u001b[0m\u001b[0;34m\u001b[0m\u001b[0m\n\u001b[0m\u001b[1;32m   1181\u001b[0m                 \u001b[0;32myield\u001b[0m \u001b[0mobj\u001b[0m\u001b[0;34m\u001b[0m\u001b[0;34m\u001b[0m\u001b[0m\n\u001b[1;32m   1182\u001b[0m                 \u001b[0;31m# Update and possibly print the progressbar.\u001b[0m\u001b[0;34m\u001b[0m\u001b[0;34m\u001b[0m\u001b[0;34m\u001b[0m\u001b[0m\n",
            "\u001b[0;32m/usr/local/lib/python3.7/dist-packages/torch/utils/data/dataloader.py\u001b[0m in \u001b[0;36m__next__\u001b[0;34m(self)\u001b[0m\n\u001b[1;32m    519\u001b[0m             \u001b[0;32mif\u001b[0m \u001b[0mself\u001b[0m\u001b[0;34m.\u001b[0m\u001b[0m_sampler_iter\u001b[0m \u001b[0;32mis\u001b[0m \u001b[0;32mNone\u001b[0m\u001b[0;34m:\u001b[0m\u001b[0;34m\u001b[0m\u001b[0;34m\u001b[0m\u001b[0m\n\u001b[1;32m    520\u001b[0m                 \u001b[0mself\u001b[0m\u001b[0;34m.\u001b[0m\u001b[0m_reset\u001b[0m\u001b[0;34m(\u001b[0m\u001b[0;34m)\u001b[0m\u001b[0;34m\u001b[0m\u001b[0;34m\u001b[0m\u001b[0m\n\u001b[0;32m--> 521\u001b[0;31m             \u001b[0mdata\u001b[0m \u001b[0;34m=\u001b[0m \u001b[0mself\u001b[0m\u001b[0;34m.\u001b[0m\u001b[0m_next_data\u001b[0m\u001b[0;34m(\u001b[0m\u001b[0;34m)\u001b[0m\u001b[0;34m\u001b[0m\u001b[0;34m\u001b[0m\u001b[0m\n\u001b[0m\u001b[1;32m    522\u001b[0m             \u001b[0mself\u001b[0m\u001b[0;34m.\u001b[0m\u001b[0m_num_yielded\u001b[0m \u001b[0;34m+=\u001b[0m \u001b[0;36m1\u001b[0m\u001b[0;34m\u001b[0m\u001b[0;34m\u001b[0m\u001b[0m\n\u001b[1;32m    523\u001b[0m             \u001b[0;32mif\u001b[0m \u001b[0mself\u001b[0m\u001b[0;34m.\u001b[0m\u001b[0m_dataset_kind\u001b[0m \u001b[0;34m==\u001b[0m \u001b[0m_DatasetKind\u001b[0m\u001b[0;34m.\u001b[0m\u001b[0mIterable\u001b[0m \u001b[0;32mand\u001b[0m\u001b[0;31m \u001b[0m\u001b[0;31m\\\u001b[0m\u001b[0;34m\u001b[0m\u001b[0;34m\u001b[0m\u001b[0m\n",
            "\u001b[0;32m/usr/local/lib/python3.7/dist-packages/torch/utils/data/dataloader.py\u001b[0m in \u001b[0;36m_next_data\u001b[0;34m(self)\u001b[0m\n\u001b[1;32m    559\u001b[0m     \u001b[0;32mdef\u001b[0m \u001b[0m_next_data\u001b[0m\u001b[0;34m(\u001b[0m\u001b[0mself\u001b[0m\u001b[0;34m)\u001b[0m\u001b[0;34m:\u001b[0m\u001b[0;34m\u001b[0m\u001b[0;34m\u001b[0m\u001b[0m\n\u001b[1;32m    560\u001b[0m         \u001b[0mindex\u001b[0m \u001b[0;34m=\u001b[0m \u001b[0mself\u001b[0m\u001b[0;34m.\u001b[0m\u001b[0m_next_index\u001b[0m\u001b[0;34m(\u001b[0m\u001b[0;34m)\u001b[0m  \u001b[0;31m# may raise StopIteration\u001b[0m\u001b[0;34m\u001b[0m\u001b[0;34m\u001b[0m\u001b[0m\n\u001b[0;32m--> 561\u001b[0;31m         \u001b[0mdata\u001b[0m \u001b[0;34m=\u001b[0m \u001b[0mself\u001b[0m\u001b[0;34m.\u001b[0m\u001b[0m_dataset_fetcher\u001b[0m\u001b[0;34m.\u001b[0m\u001b[0mfetch\u001b[0m\u001b[0;34m(\u001b[0m\u001b[0mindex\u001b[0m\u001b[0;34m)\u001b[0m  \u001b[0;31m# may raise StopIteration\u001b[0m\u001b[0;34m\u001b[0m\u001b[0;34m\u001b[0m\u001b[0m\n\u001b[0m\u001b[1;32m    562\u001b[0m         \u001b[0;32mif\u001b[0m \u001b[0mself\u001b[0m\u001b[0;34m.\u001b[0m\u001b[0m_pin_memory\u001b[0m\u001b[0;34m:\u001b[0m\u001b[0;34m\u001b[0m\u001b[0;34m\u001b[0m\u001b[0m\n\u001b[1;32m    563\u001b[0m             \u001b[0mdata\u001b[0m \u001b[0;34m=\u001b[0m \u001b[0m_utils\u001b[0m\u001b[0;34m.\u001b[0m\u001b[0mpin_memory\u001b[0m\u001b[0;34m.\u001b[0m\u001b[0mpin_memory\u001b[0m\u001b[0;34m(\u001b[0m\u001b[0mdata\u001b[0m\u001b[0;34m)\u001b[0m\u001b[0;34m\u001b[0m\u001b[0;34m\u001b[0m\u001b[0m\n",
            "\u001b[0;32m/usr/local/lib/python3.7/dist-packages/torch/utils/data/_utils/fetch.py\u001b[0m in \u001b[0;36mfetch\u001b[0;34m(self, possibly_batched_index)\u001b[0m\n\u001b[1;32m     42\u001b[0m     \u001b[0;32mdef\u001b[0m \u001b[0mfetch\u001b[0m\u001b[0;34m(\u001b[0m\u001b[0mself\u001b[0m\u001b[0;34m,\u001b[0m \u001b[0mpossibly_batched_index\u001b[0m\u001b[0;34m)\u001b[0m\u001b[0;34m:\u001b[0m\u001b[0;34m\u001b[0m\u001b[0;34m\u001b[0m\u001b[0m\n\u001b[1;32m     43\u001b[0m         \u001b[0;32mif\u001b[0m \u001b[0mself\u001b[0m\u001b[0;34m.\u001b[0m\u001b[0mauto_collation\u001b[0m\u001b[0;34m:\u001b[0m\u001b[0;34m\u001b[0m\u001b[0;34m\u001b[0m\u001b[0m\n\u001b[0;32m---> 44\u001b[0;31m             \u001b[0mdata\u001b[0m \u001b[0;34m=\u001b[0m \u001b[0;34m[\u001b[0m\u001b[0mself\u001b[0m\u001b[0;34m.\u001b[0m\u001b[0mdataset\u001b[0m\u001b[0;34m[\u001b[0m\u001b[0midx\u001b[0m\u001b[0;34m]\u001b[0m \u001b[0;32mfor\u001b[0m \u001b[0midx\u001b[0m \u001b[0;32min\u001b[0m \u001b[0mpossibly_batched_index\u001b[0m\u001b[0;34m]\u001b[0m\u001b[0;34m\u001b[0m\u001b[0;34m\u001b[0m\u001b[0m\n\u001b[0m\u001b[1;32m     45\u001b[0m         \u001b[0;32melse\u001b[0m\u001b[0;34m:\u001b[0m\u001b[0;34m\u001b[0m\u001b[0;34m\u001b[0m\u001b[0m\n\u001b[1;32m     46\u001b[0m             \u001b[0mdata\u001b[0m \u001b[0;34m=\u001b[0m \u001b[0mself\u001b[0m\u001b[0;34m.\u001b[0m\u001b[0mdataset\u001b[0m\u001b[0;34m[\u001b[0m\u001b[0mpossibly_batched_index\u001b[0m\u001b[0;34m]\u001b[0m\u001b[0;34m\u001b[0m\u001b[0;34m\u001b[0m\u001b[0m\n",
            "\u001b[0;32m/usr/local/lib/python3.7/dist-packages/torch/utils/data/_utils/fetch.py\u001b[0m in \u001b[0;36m<listcomp>\u001b[0;34m(.0)\u001b[0m\n\u001b[1;32m     42\u001b[0m     \u001b[0;32mdef\u001b[0m \u001b[0mfetch\u001b[0m\u001b[0;34m(\u001b[0m\u001b[0mself\u001b[0m\u001b[0;34m,\u001b[0m \u001b[0mpossibly_batched_index\u001b[0m\u001b[0;34m)\u001b[0m\u001b[0;34m:\u001b[0m\u001b[0;34m\u001b[0m\u001b[0;34m\u001b[0m\u001b[0m\n\u001b[1;32m     43\u001b[0m         \u001b[0;32mif\u001b[0m \u001b[0mself\u001b[0m\u001b[0;34m.\u001b[0m\u001b[0mauto_collation\u001b[0m\u001b[0;34m:\u001b[0m\u001b[0;34m\u001b[0m\u001b[0;34m\u001b[0m\u001b[0m\n\u001b[0;32m---> 44\u001b[0;31m             \u001b[0mdata\u001b[0m \u001b[0;34m=\u001b[0m \u001b[0;34m[\u001b[0m\u001b[0mself\u001b[0m\u001b[0;34m.\u001b[0m\u001b[0mdataset\u001b[0m\u001b[0;34m[\u001b[0m\u001b[0midx\u001b[0m\u001b[0;34m]\u001b[0m \u001b[0;32mfor\u001b[0m \u001b[0midx\u001b[0m \u001b[0;32min\u001b[0m \u001b[0mpossibly_batched_index\u001b[0m\u001b[0;34m]\u001b[0m\u001b[0;34m\u001b[0m\u001b[0;34m\u001b[0m\u001b[0m\n\u001b[0m\u001b[1;32m     45\u001b[0m         \u001b[0;32melse\u001b[0m\u001b[0;34m:\u001b[0m\u001b[0;34m\u001b[0m\u001b[0;34m\u001b[0m\u001b[0m\n\u001b[1;32m     46\u001b[0m             \u001b[0mdata\u001b[0m \u001b[0;34m=\u001b[0m \u001b[0mself\u001b[0m\u001b[0;34m.\u001b[0m\u001b[0mdataset\u001b[0m\u001b[0;34m[\u001b[0m\u001b[0mpossibly_batched_index\u001b[0m\u001b[0;34m]\u001b[0m\u001b[0;34m\u001b[0m\u001b[0;34m\u001b[0m\u001b[0m\n",
            "\u001b[0;32m<ipython-input-206-68864f1e70c7>\u001b[0m in \u001b[0;36m__getitem__\u001b[0;34m(self, i)\u001b[0m\n\u001b[1;32m     17\u001b[0m     \u001b[0;32mdef\u001b[0m \u001b[0m__getitem__\u001b[0m\u001b[0;34m(\u001b[0m\u001b[0mself\u001b[0m\u001b[0;34m,\u001b[0m \u001b[0mi\u001b[0m\u001b[0;34m)\u001b[0m\u001b[0;34m:\u001b[0m\u001b[0;34m\u001b[0m\u001b[0;34m\u001b[0m\u001b[0m\n\u001b[1;32m     18\u001b[0m         \u001b[0mcur\u001b[0m \u001b[0;34m=\u001b[0m \u001b[0mself\u001b[0m\u001b[0;34m.\u001b[0m\u001b[0mstrings\u001b[0m\u001b[0;34m[\u001b[0m\u001b[0mi\u001b[0m\u001b[0;34m]\u001b[0m\u001b[0;34m\u001b[0m\u001b[0;34m\u001b[0m\u001b[0m\n\u001b[0;32m---> 19\u001b[0;31m         \u001b[0;32mreturn\u001b[0m \u001b[0mstringToTensor\u001b[0m\u001b[0;34m(\u001b[0m\u001b[0mcur\u001b[0m\u001b[0;34m[\u001b[0m\u001b[0;34m:\u001b[0m\u001b[0;34m-\u001b[0m\u001b[0;36m1\u001b[0m\u001b[0;34m]\u001b[0m\u001b[0;34m)\u001b[0m\u001b[0;34m,\u001b[0m \u001b[0mcharToIndex\u001b[0m\u001b[0;34m(\u001b[0m\u001b[0mcur\u001b[0m\u001b[0;34m[\u001b[0m\u001b[0;34m-\u001b[0m\u001b[0;36m1\u001b[0m\u001b[0;34m]\u001b[0m\u001b[0;34m)\u001b[0m\u001b[0;34m\u001b[0m\u001b[0;34m\u001b[0m\u001b[0m\n\u001b[0m\u001b[1;32m     20\u001b[0m \u001b[0;34m\u001b[0m\u001b[0m\n\u001b[1;32m     21\u001b[0m \u001b[0mtrainSet\u001b[0m \u001b[0;34m=\u001b[0m \u001b[0mDataLoader\u001b[0m\u001b[0;34m(\u001b[0m\u001b[0mStringDataset\u001b[0m\u001b[0;34m(\u001b[0m\u001b[0mrawTexts\u001b[0m\u001b[0;34m[\u001b[0m\u001b[0;34m:\u001b[0m \u001b[0mTRAIN_SIZE\u001b[0m\u001b[0;34m]\u001b[0m\u001b[0;34m)\u001b[0m\u001b[0;34m,\u001b[0m \u001b[0mbatch_size\u001b[0m\u001b[0;34m=\u001b[0m\u001b[0mBATCH_SIZE\u001b[0m\u001b[0;34m,\u001b[0m \u001b[0mshuffle\u001b[0m\u001b[0;34m=\u001b[0m\u001b[0;32mTrue\u001b[0m\u001b[0;34m)\u001b[0m\u001b[0;34m\u001b[0m\u001b[0;34m\u001b[0m\u001b[0m\n",
            "\u001b[0;32m<ipython-input-206-68864f1e70c7>\u001b[0m in \u001b[0;36mstringToTensor\u001b[0;34m(cur)\u001b[0m\n\u001b[1;32m      6\u001b[0m     \u001b[0mx\u001b[0m \u001b[0;34m=\u001b[0m \u001b[0mtorch\u001b[0m\u001b[0;34m.\u001b[0m\u001b[0mzeros\u001b[0m\u001b[0;34m(\u001b[0m\u001b[0mALPHABET_SIZE\u001b[0m \u001b[0;34m*\u001b[0m \u001b[0mSUFFIX_SIZE\u001b[0m\u001b[0;34m)\u001b[0m\u001b[0;34m\u001b[0m\u001b[0;34m\u001b[0m\u001b[0m\n\u001b[1;32m      7\u001b[0m     \u001b[0;32mfor\u001b[0m \u001b[0mj\u001b[0m \u001b[0;32min\u001b[0m \u001b[0mrange\u001b[0m\u001b[0;34m(\u001b[0m\u001b[0mSUFFIX_SIZE\u001b[0m\u001b[0;34m)\u001b[0m\u001b[0;34m:\u001b[0m\u001b[0;34m\u001b[0m\u001b[0;34m\u001b[0m\u001b[0m\n\u001b[0;32m----> 8\u001b[0;31m         \u001b[0mx\u001b[0m\u001b[0;34m[\u001b[0m\u001b[0mj\u001b[0m \u001b[0;34m*\u001b[0m \u001b[0mALPHABET_SIZE\u001b[0m \u001b[0;34m+\u001b[0m \u001b[0mcharToIndex\u001b[0m\u001b[0;34m(\u001b[0m\u001b[0mcur\u001b[0m\u001b[0;34m[\u001b[0m\u001b[0mj\u001b[0m\u001b[0;34m]\u001b[0m\u001b[0;34m)\u001b[0m\u001b[0;34m]\u001b[0m \u001b[0;34m=\u001b[0m \u001b[0;36m1\u001b[0m\u001b[0;34m\u001b[0m\u001b[0;34m\u001b[0m\u001b[0m\n\u001b[0m\u001b[1;32m      9\u001b[0m     \u001b[0;32mreturn\u001b[0m \u001b[0mx\u001b[0m\u001b[0;34m\u001b[0m\u001b[0;34m\u001b[0m\u001b[0m\n\u001b[1;32m     10\u001b[0m \u001b[0;34m\u001b[0m\u001b[0m\n",
            "\u001b[0;31mKeyboardInterrupt\u001b[0m: "
          ]
        }
      ]
    }
  ]
}